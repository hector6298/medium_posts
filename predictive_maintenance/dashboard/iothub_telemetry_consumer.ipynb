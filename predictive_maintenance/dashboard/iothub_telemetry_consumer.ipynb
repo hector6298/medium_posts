{
 "cells": [
  {
   "cell_type": "code",
   "execution_count": null,
   "id": "9c676e87",
   "metadata": {},
   "outputs": [],
   "source": [
    "import os\n",
    "import numpy as np\n",
    "import sys\n",
    "import panel as pn\n",
    "import time\n",
    "import json\n",
    "import logging\n",
    "import threading\n",
    "\n",
    "from azure.eventhub import EventHubConsumerClient\n",
    "from bokeh.io import curdoc\n",
    "from bokeh.models import ColumnDataSource, DatetimeTickFormatter, Select\n",
    "from bokeh.layouts import layout\n",
    "from bokeh.plotting import figure\n",
    "from datetime import datetime\n",
    "from math import radians\n",
    "\n",
    "pn.extension()\n",
    "rng = np.random.default_rng(12345)\n",
    "\n",
    "RECEIVED_MESSAGES = 0\n",
    "connection_str = os.environ.get(\"IOTHUB_CONNECTION_STRING\")\n",
    "consumer_group = os.environ.get(\"IOTHUB_CONSUMER_GROUP\")\n",
    "eventhub_name= os.environ.get(\"IOTHUB_COMPATIBLE_NAME\")"
   ]
  },
  {
   "cell_type": "code",
   "execution_count": null,
   "id": "de913021",
   "metadata": {},
   "outputs": [],
   "source": [
    "# We produce new data here, and use the selector to discriminate\n",
    "def message_handler(partition_context, event):\n",
    "    logger.info(\"Received event from partition {}\".format(partition_context.partition_id))\n",
    "\n",
    "    message = event.body_as_json()\n",
    "\n",
    "    print(\"\\nMessage received:\")\n",
    "    print( \"    Data: <<{}>>\".format(message) )\n",
    "\n",
    "    partition_context.update_checkpoint(event)\n",
    "\n",
    "\n",
    "def on_error(partition_context, error):\n",
    "    # Put your code here. partition_context can be None in the on_error callback.\n",
    "    if partition_context:\n",
    "        print(\"An exception: {} occurred during receiving from Partition: {}.\".format(\n",
    "            partition_context.partition_id,\n",
    "            error\n",
    "        ))\n",
    "    else:\n",
    "        print(\"An exception: {} occurred during the load balance process.\".format(error))\n",
    "        \n",
    "        \n"
   ]
  },
  {
   "cell_type": "code",
   "execution_count": null,
   "id": "01e2cea5",
   "metadata": {},
   "outputs": [],
   "source": [
    "client = EventHubConsumerClient.from_connection_string(connection_str, \n",
    "                                                    consumer_group, \n",
    "                                                    eventhub_name=eventhub_name)\n",
    "logger = logging.getLogger(\"azure.eventhub\")\n",
    "logging.basicConfig(level=logging.INFO)\n",
    "\n",
    "with client:\n",
    "    client.receive(\n",
    "        on_event=message_handler,\n",
    "        on_error=on_error,\n",
    "        starting_position=\"-1\",  # \"-1\" is from the beginning of the partition.\n",
    "    )"
   ]
  }
 ],
 "metadata": {
  "kernelspec": {
   "display_name": "Python 3 (ipykernel)",
   "language": "python",
   "name": "python3"
  },
  "language_info": {
   "codemirror_mode": {
    "name": "ipython",
    "version": 3
   },
   "file_extension": ".py",
   "mimetype": "text/x-python",
   "name": "python",
   "nbconvert_exporter": "python",
   "pygments_lexer": "ipython3",
   "version": "3.9.7"
  }
 },
 "nbformat": 4,
 "nbformat_minor": 5
}
